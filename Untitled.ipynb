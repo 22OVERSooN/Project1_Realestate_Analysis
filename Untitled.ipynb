{
 "cells": [
  {
   "cell_type": "code",
   "execution_count": 26,
   "metadata": {},
   "outputs": [],
   "source": [
    "client_secret = \"secret_4bf88da1707694997c57e0dabe7a6649\"\n",
    "client_id = \"client_08dd919aa6aeca26fee22c382589f9b7\"\n",
    "api_key = \"key_4f3ff76b5c6138bf3afbb9f53d494661\"\n",
    "import requests\n",
    "import json"
   ]
  },
  {
   "cell_type": "code",
   "execution_count": 10,
   "metadata": {},
   "outputs": [
    {
     "name": "stdout",
     "output_type": "stream",
     "text": [
      "{'title': 'Not Found', 'detail': 'No Matching Route'}\n"
     ]
    }
   ],
   "source": [
    "url_get_property_id = f\"https://api.domain.com.au/v1/addressLocators?searchLevel=Address&streetNumber=100&streetName=Harris&streetType=Street&suburb=Pyrmont&state=NSW&postcode=2009&api_key={api_key}\"\n",
    "url_endpoint = f'https://api.domain.com.au/v1/listing&api_key={api_key}'\n",
    "#property_id = \"RF-8884-AK\"\n",
    "params = {\n",
    "  \"listingType\": \"Rent\",\n",
    "  \"locations\": [\n",
    "    {\n",
    "      \"state\": \"VIC\",\n",
    "      \"suburb\": \"Glen Waverly\",     \n",
    "      \"postcode\": 3150,\n",
    "      \"includeSurroundingSuburbs\": True\n",
    "    }\n",
    "  ]\n",
    "}\n",
    "response = requests.get(url_endpoint, data = params)\n",
    "detail = response.json()\n",
    "print(detail)"
   ]
  },
  {
   "cell_type": "code",
   "execution_count": 11,
   "metadata": {},
   "outputs": [
    {
     "name": "stdout",
     "output_type": "stream",
     "text": [
      "{\n",
      "    \"detail\": \"Project [Sandbox] restricted from access to this environment [Primary].\",\n",
      "    \"title\": \"Not Authorized\",\n",
      "    \"type\": \"https://developer.domain.com.au/docs/latest/conventions/access\"\n",
      "}\n"
     ]
    }
   ],
   "source": [
    "property_id = requests.get(url_get_property_id).json()\n",
    "print(json.dumps(property_id, indent=4, sort_keys =True))"
   ]
  },
  {
   "cell_type": "code",
   "execution_count": 18,
   "metadata": {},
   "outputs": [
    {
     "name": "stdout",
     "output_type": "stream",
     "text": [
      "{\n",
      "    \"detail\": \"Project [Sandbox] restricted from access to this environment [Primary].\",\n",
      "    \"title\": \"Not Authorized\",\n",
      "    \"type\": \"https://developer.domain.com.au/docs/latest/conventions/access\"\n",
      "}\n"
     ]
    }
   ],
   "source": [
    "url_get_property_id = f\"https://api.domain.com.au/v1/addressLocators?searchLevel=Address&streetNumber=100&streetName=Harris&streetType=Street&suburb=Pyrmont&state=NSW&postcode=2009\"\n",
    "response = requests.get(url_get_property_id, headers=auth)\n",
    "details=response.json()\n",
    "print(json.dumps(details, indent=4, sort_keys =True))"
   ]
  },
  {
   "cell_type": "code",
   "execution_count": 35,
   "metadata": {},
   "outputs": [
    {
     "name": "stdout",
     "output_type": "stream",
     "text": [
      "ba47e1a84ee0713e3c8fd37503556448\n",
      "{'message': '{\"type\":\"https://tools.ietf.org/html/rfc7231#section-6.6.1\",\"title\":\"An error occured while processing your request.\",\"status\":500,\"traceId\":\"00-ce655e63e2e81046a17c2688b9b6f303-66ade1c75858e445-01\"}'}\n"
     ]
    }
   ],
   "source": [
    "scopes = ['api_listings_read']\n",
    "auth_url = 'https://auth.domain.com.au/v1/connect/token'\n",
    "url_endpoint = 'https://api.domain.com.au/sandbox/v1/listings/'\n",
    "property_id = '6311594' #fill the id here\n",
    "\n",
    "\n",
    "def get_property_info():\n",
    "    response = requests.post(auth_url, data = {\n",
    "                        'client_id':client_id,\n",
    "                        'client_secret':client_secret,\n",
    "                        'grant_type':'client_credentials',\n",
    "                        'scope':scopes,\n",
    "                        'Content-Type':'text/json'\n",
    "                        })\n",
    "    json_res = response.json()\n",
    "    access_token=json_res['access_token']\n",
    "    print(access_token)\n",
    "    auth = {'Authorization':'Bearer ' + access_token}\n",
    "    url = url_endpoint + property_id\n",
    "    res1 = requests.get(url, headers=auth)    \n",
    "    r = res1.json()\n",
    "    print(r)\n",
    "\n",
    "\n",
    "get_property_info()"
   ]
  },
  {
   "cell_type": "code",
   "execution_count": 30,
   "metadata": {},
   "outputs": [
    {
     "name": "stdout",
     "output_type": "stream",
     "text": [
      "54b3ecf2951ea2780c76dc388a608522\n",
      "{'message': '[]'}\n"
     ]
    }
   ],
   "source": [
    "property_reading_url = \"https://api.domain.com.au/sandbox/v1/addressLocators?searchLevel=Address&streetNumber=10&streetName=Harris&streetType=Street&suburb=Pyrmont&state=NSW&postcode=2009\"\n",
    "scopes = ['api_addresslocators_read']\n",
    "response = requests.post(auth_url, data = {\n",
    "                        'client_id':client_id,\n",
    "                        'client_secret':client_secret,\n",
    "                        'grant_type':'client_credentials',\n",
    "                        'scope':scopes,\n",
    "                        'Content-Type':'text/json'\n",
    "                        })\n",
    "json_res = response.json()\n",
    "access_token=json_res['access_token']\n",
    "print(access_token)\n",
    "auth = {'Authorization':'Bearer ' + access_token}\n",
    "\n",
    "res1 = requests.get(property_reading_url, headers=auth)    \n",
    "r = res1.json()\n",
    "print(r)"
   ]
  },
  {
   "cell_type": "code",
   "execution_count": null,
   "metadata": {},
   "outputs": [],
   "source": []
  }
 ],
 "metadata": {
  "kernelspec": {
   "display_name": "PythonDate",
   "language": "python",
   "name": "pythondate"
  },
  "language_info": {
   "codemirror_mode": {
    "name": "ipython",
    "version": 3
   },
   "file_extension": ".py",
   "mimetype": "text/x-python",
   "name": "python",
   "nbconvert_exporter": "python",
   "pygments_lexer": "ipython3",
   "version": "3.6.10"
  }
 },
 "nbformat": 4,
 "nbformat_minor": 4
}
